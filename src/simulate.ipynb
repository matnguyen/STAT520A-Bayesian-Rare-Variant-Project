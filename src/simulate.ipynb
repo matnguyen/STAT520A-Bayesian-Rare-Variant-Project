{
 "cells": [
  {
   "cell_type": "code",
   "execution_count": 7,
   "metadata": {},
   "outputs": [],
   "source": [
    "import pandas as pd \n",
    "from scipy.stats import *\n",
    "import scipy.stats as stats"
   ]
  },
  {
   "cell_type": "code",
   "execution_count": 12,
   "metadata": {},
   "outputs": [],
   "source": [
    "# Generate simulated examples for the unannotated model\n",
    "# Let's do 20 replicates of N = 1000\n",
    "\n",
    "for i in range(20):\n",
    "    gamma_n = []\n",
    "    Z_n = []\n",
    "    num_severe_n = []\n",
    "    freq_n = []\n",
    "    num_freq_n = []\n",
    "    eta_n = []\n",
    "    \n",
    "    eta = beta.rvs(1, 100)\n",
    "    \n",
    "    for n in range(1000):\n",
    "        eta_n.append(eta)\n",
    "        \n",
    "        gamma = stats.gamma.rvs(2, 1)\n",
    "        gamma_n.append(gamma)\n",
    "        \n",
    "        Z = bernoulli.rvs(eta)\n",
    "        Z_n.append(Z)\n",
    "        \n",
    "        num_freq = poisson.rvs(32) + 1\n",
    "        num_freq_n.append(num_freq)\n",
    "        freq = num_freq / 1000\n",
    "        freq_n.append(freq)\n",
    "        \n",
    "        if Z == 0:\n",
    "            num_severe = binom.rvs(num_freq, freq)\n",
    "        else:\n",
    "            num_severe = binom.rvs(num_freq, freq * gamma)\n",
    "        num_severe_n.append(num_severe)\n",
    "        \n",
    "    df = pd.DataFrame({\n",
    "        'variants': np.arange(0, 1000, 1),\n",
    "        'num_severe': num_severe_n,\n",
    "        'frequency': freq_n,\n",
    "        'num_freq': num_freq_n,\n",
    "        'gamma': gamma_n,\n",
    "        'Z': Z_n,\n",
    "        'eta': eta_n\n",
    "    })\n",
    "    \n",
    "    df.to_csv('{}_sim.csv'.format(i), index=False)"
   ]
  }
 ],
 "metadata": {
  "kernelspec": {
   "display_name": "Python 3",
   "language": "python",
   "name": "python3"
  },
  "language_info": {
   "codemirror_mode": {
    "name": "ipython",
    "version": 3
   },
   "file_extension": ".py",
   "mimetype": "text/x-python",
   "name": "python",
   "nbconvert_exporter": "python",
   "pygments_lexer": "ipython3",
   "version": "3.8.3"
  }
 },
 "nbformat": 4,
 "nbformat_minor": 4
}
